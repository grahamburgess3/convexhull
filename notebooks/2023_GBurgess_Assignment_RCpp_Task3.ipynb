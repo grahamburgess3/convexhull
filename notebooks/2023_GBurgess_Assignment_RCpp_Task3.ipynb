{
 "cells": [
  {
   "cell_type": "markdown",
   "id": "2274b268",
   "metadata": {},
   "source": [
    "## RCpp Assignment - Task 3: ranking each Jarvis March implementation\n",
    "\n",
    "The table below shows my ranking of each of my implementations of the Jarvis March algorithm, with reference to [this paper](https://www.frontiersin.org/articles/10.3389/fninf.2017.00069/full) on five characteristics of good scientific code. My reasoning for the ranking for each characteristic is given below the table. "
   ]
  },
  {
   "cell_type": "markdown",
   "id": "53388b61",
   "metadata": {},
   "source": [
    "|             | Rerunable   | Repeatable   | Reproducible | Reusable   | Replicable |\n",
    "|-------------|-------------|--------------|--------------|------------|------------|\n",
    "| Pseudo code | 4           | 4            | 4            | 4          | 4          |\n",
    "| Python      | 2           | 1            | 3            | 1          | 1          |\n",
    "| C++         | 1           | 1            | 2            | 2          | 2          |\n",
    "| R package   | 3           | 1            | 1            | 3          | 3          |"
   ]
  },
  {
   "cell_type": "markdown",
   "id": "56a90969",
   "metadata": {},
   "source": [
    "**Rerunable** - will it be easy for someone to re-run the code in, say, 10 years time? Here I consider the pseudo code the worst. In terms of what it is designed to do (i.e. show how the algorithm works) - it only relies on the English language which is much more difficult to define precisely (it is open to human interpretation) - so one person reading it one day may have a different interpretation to another person reading it another day. Of course I have tried to be as clear as possible to reduce any ambiguity but this is impossible to completely eliminate. Here I consider the R package the second worst since it depends on two systems, R and C++, which may change in future, causing problems when re-running the code. However, this package does have the potential to be better if, for example, explicit details of the systems and dependencies were included in the package documentation. I ranked C++ above R simply because C++ has an ISO standard so future changes are can be more trustworthy and perhaps more likely to be backwards compatible. However, both my Python and C++ implementations do crucially include details of the version of Python / C++ used to develop the code, which is helpful when re-running by another researcher in future. "
   ]
  },
  {
   "cell_type": "markdown",
   "id": "0008cc0f",
   "metadata": {},
   "source": [
    "**Repeatable** - will the code give exactly the same results every time if I repeat the analysis on exactly the same data? Here I place the Python, C++ and R package implementations in joint first place because they all include careful control of random seeds, ensuring that repeating the analysis over and over with exactly the same data is bound to give exactly the same results again and again. I place the pseudo code in last place, because, in terms of what the pseudo code is designed to do (show how the algorithm works) - it relies on human interpretation which is different each time and not controllable in the same way a random number sequence can be controlled with a seed. "
   ]
  },
  {
   "cell_type": "markdown",
   "id": "1370754f",
   "metadata": {},
   "source": [
    "**Reproducible** - will it be easy for someone to re-produce the exact results even if their default execution environment is differet? Here I place the R package on top - along with explicit statements of the C++ version used to create the code, the package also allows for version control, so any changes to the code will be documented along with a version history. Such changes would be harder to keep track of in the Python and C++ versions. I again place the pseudo code last because the interpretation of the language is bound to be slightly different each time, so it can never be completely reproducible. "
   ]
  },
  {
   "cell_type": "markdown",
   "id": "109f04b6",
   "metadata": {},
   "source": [
    "**Reusable** - can the code be reused by someone else easily, or by my future self? Here I place Python code first - it contains extensive commenting and docstrings helping the user understand why certain programming decisions were made, and helping the user understand how to reuse the functions. C++ is only second because the code itself is more difficult to decipher than Python code. The R package could potentially come top, with commenting and a README to provide further usability - also on GitHub the package can be queried by a user and any ambiguity resolved remotely. However I placed it third here because I had to get rid of long docstrings contained within /$^{\\ast}$ these comment brackets in C++ $^{\\ast}$/ because they caused a problem when loading the .cpp file. I expect this problem can be fixed. In last place again comes the pseudo code because it is impossible for everyone everywhere to use the pseudo code in exactly the same way - it is always open to interpretation.  "
   ]
  },
  {
   "cell_type": "markdown",
   "id": "9bef6b69",
   "metadata": {},
   "source": [
    "**Recplicable** - can another researcher replicate the same results from scratch? Here - the pseudo code plays an important role, but it is not very helpful on its own - therefore it comes last again - only the code itself can clear up all the ambiguities. I again consider the best code here to be the Python code because of the extensive documentation and docstrings which clear up any ambiguities, enabling another researcher to replicate all the results. The C++ is again second due to the nature of the C++ language, and the R package third - again the R package could be improved with links to pseudocode and with reintroduced documentation. "
   ]
  }
 ],
 "metadata": {
  "kernelspec": {
   "display_name": "Python 3 (ipykernel)",
   "language": "python",
   "name": "python3"
  },
  "language_info": {
   "codemirror_mode": {
    "name": "ipython",
    "version": 3
   },
   "file_extension": ".py",
   "mimetype": "text/x-python",
   "name": "python",
   "nbconvert_exporter": "python",
   "pygments_lexer": "ipython3",
   "version": "3.9.10"
  }
 },
 "nbformat": 4,
 "nbformat_minor": 5
}
