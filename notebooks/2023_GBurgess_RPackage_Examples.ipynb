{
 "cells": [
  {
   "cell_type": "markdown",
   "id": "f2da5bff",
   "metadata": {},
   "source": [
    "# RCpp assignment Task 4: Example usage\n",
    "\n",
    "In this notebook we give some examples of using the convex hull package with some randomly generated data. The first step is to install and load the required packages if necessary. "
   ]
  },
  {
   "cell_type": "code",
   "execution_count": 1,
   "id": "eb724a14",
   "metadata": {},
   "outputs": [
    {
     "name": "stderr",
     "output_type": "stream",
     "text": [
      "Loading required package: convexhull\n",
      "\n",
      "Loading required package: rlang\n",
      "\n",
      "Loading required package: ggplot2\n",
      "\n"
     ]
    }
   ],
   "source": [
    "# if we need to install convexhull from github, we will need the devtools package. \n",
    "if(!require(\"convexhull\")){\n",
    "    if(!require(\"devtools\")){\n",
    "        install.packages(\"devtools\")\n",
    "    }\n",
    "    library(devtools)\n",
    "    install_github(\"grahamburgess3/convexhull\")\n",
    "}\n",
    "\n",
    "# We will need the ggplot2 and rlang packages for plotting. \n",
    "if(!require(\"rlang\")){\n",
    "    install.packages(\"rlang\")\n",
    "}\n",
    "if(!require(\"ggplot2\")){\n",
    "    install.packages(\"ggplot2\")\n",
    "}\n",
    "\n",
    "# load packages\n",
    "library(convexhull)\n",
    "library(rlang)\n",
    "library(ggplot2)"
   ]
  },
  {
   "cell_type": "markdown",
   "id": "8aa73ecf",
   "metadata": {},
   "source": [
    "Now that we have installed and loaded the packges we need, we can create some dummy data to test the function. "
   ]
  },
  {
   "cell_type": "code",
   "execution_count": 2,
   "id": "c73e6fb8",
   "metadata": {},
   "outputs": [],
   "source": [
    "set.seed(1)\n",
    "x <- rnorm(100)\n",
    "y <- rnorm(100)\n",
    "test_data <- data.frame(x,y)"
   ]
  },
  {
   "cell_type": "markdown",
   "id": "c912e999",
   "metadata": {},
   "source": [
    "Now we can test the Jarvis March algorithm by calling the jarvis_march() function"
   ]
  },
  {
   "cell_type": "code",
   "execution_count": 3,
   "id": "b2e80b78",
   "metadata": {},
   "outputs": [],
   "source": [
    "test_results <- jarvis_march(test_data)"
   ]
  },
  {
   "cell_type": "markdown",
   "id": "cd295f1f",
   "metadata": {},
   "source": [
    "The object \"test_results\" is a list with two elements - \"input_data\" and \"hull\". Let us first print out the \"hull\" to see the results in raw format. \"hull\" is itself a list with $N$ elements (where $N$ is the number of line segments which forms the convex hull). Each line segment (or list element) contains four numbers giving the x- and y-coordinates of the start and end of the line segment. So the line segment connecting the second and third point on the convex hull would be (x_2,y_2,x_3,y_3). The data for these line segments for the convex hull of the example data is given below. "
   ]
  },
  {
   "cell_type": "code",
   "execution_count": 4,
   "id": "748340cc",
   "metadata": {},
   "outputs": [
    {
     "data": {
      "text/html": [
       "<ol>\n",
       "\t<li><style>\n",
       ".list-inline {list-style: none; margin:0; padding: 0}\n",
       ".list-inline>li {display: inline-block}\n",
       ".list-inline>li:not(:last-child)::after {content: \"\\00b7\"; padding: 0 .5ex}\n",
       "</style>\n",
       "<ol class=list-inline><li>-2.2146998871775</li><li>-0.650696353310367</li><li>-1.27659220845804</li><li>1.44115770684428</li></ol>\n",
       "</li>\n",
       "\t<li><style>\n",
       ".list-inline {list-style: none; margin:0; padding: 0}\n",
       ".list-inline>li {display: inline-block}\n",
       ".list-inline>li:not(:last-child)::after {content: \"\\00b7\"; padding: 0 .5ex}\n",
       "</style>\n",
       "<ol class=list-inline><li>-1.27659220845804</li><li>1.44115770684428</li><li>-0.820468384118015</li><li>1.76728726937265</li></ol>\n",
       "</li>\n",
       "\t<li><style>\n",
       ".list-inline {list-style: none; margin:0; padding: 0}\n",
       ".list-inline>li {display: inline-block}\n",
       ".list-inline>li:not(:last-child)::after {content: \"\\00b7\"; padding: 0 .5ex}\n",
       "</style>\n",
       "<ol class=list-inline><li>-0.820468384118015</li><li>1.76728726937265</li><li>0.188792299514343</li><li>2.20610246454047</li></ol>\n",
       "</li>\n",
       "\t<li><style>\n",
       ".list-inline {list-style: none; margin:0; padding: 0}\n",
       ".list-inline>li {display: inline-block}\n",
       ".list-inline>li:not(:last-child)::after {content: \"\\00b7\"; padding: 0 .5ex}\n",
       "</style>\n",
       "<ol class=list-inline><li>0.188792299514343</li><li>2.20610246454047</li><li>0.475509528899663</li><li>2.30797839905936</li></ol>\n",
       "</li>\n",
       "\t<li><style>\n",
       ".list-inline {list-style: none; margin:0; padding: 0}\n",
       ".list-inline>li {display: inline-block}\n",
       ".list-inline>li:not(:last-child)::after {content: \"\\00b7\"; padding: 0 .5ex}\n",
       "</style>\n",
       "<ol class=list-inline><li>0.475509528899663</li><li>2.30797839905936</li><li>2.40161776050478</li><li>0.425100377372448</li></ol>\n",
       "</li>\n",
       "\t<li><style>\n",
       ".list-inline {list-style: none; margin:0; padding: 0}\n",
       ".list-inline>li {display: inline-block}\n",
       ".list-inline>li:not(:last-child)::after {content: \"\\00b7\"; padding: 0 .5ex}\n",
       "</style>\n",
       "<ol class=list-inline><li>2.40161776050478</li><li>0.425100377372448</li><li>1.98039989850586</li><li>-1.07519229661568</li></ol>\n",
       "</li>\n",
       "\t<li><style>\n",
       ".list-inline {list-style: none; margin:0; padding: 0}\n",
       ".list-inline>li {display: inline-block}\n",
       ".list-inline>li:not(:last-child)::after {content: \"\\00b7\"; padding: 0 .5ex}\n",
       "</style>\n",
       "<ol class=list-inline><li>1.98039989850586</li><li>-1.07519229661568</li><li>1.43302370170104</li><li>-1.48746031014148</li></ol>\n",
       "</li>\n",
       "\t<li><style>\n",
       ".list-inline {list-style: none; margin:0; padding: 0}\n",
       ".list-inline>li {display: inline-block}\n",
       ".list-inline>li:not(:last-child)::after {content: \"\\00b7\"; padding: 0 .5ex}\n",
       "</style>\n",
       "<ol class=list-inline><li>1.43302370170104</li><li>-1.48746031014148</li><li>0.881107726454215</li><li>-1.64060553441858</li></ol>\n",
       "</li>\n",
       "\t<li><style>\n",
       ".list-inline {list-style: none; margin:0; padding: 0}\n",
       ".list-inline>li {display: inline-block}\n",
       ".list-inline>li:not(:last-child)::after {content: \"\\00b7\"; padding: 0 .5ex}\n",
       "</style>\n",
       "<ol class=list-inline><li>0.881107726454215</li><li>-1.64060553441858</li><li>-0.164523596253587</li><li>-1.91435942568001</li></ol>\n",
       "</li>\n",
       "\t<li><style>\n",
       ".list-inline {list-style: none; margin:0; padding: 0}\n",
       ".list-inline>li {display: inline-block}\n",
       ".list-inline>li:not(:last-child)::after {content: \"\\00b7\"; padding: 0 .5ex}\n",
       "</style>\n",
       "<ol class=list-inline><li>-0.164523596253587</li><li>-1.91435942568001</li><li>-1.52356680042976</li><li>-1.46725002909224</li></ol>\n",
       "</li>\n",
       "\t<li><style>\n",
       ".list-inline {list-style: none; margin:0; padding: 0}\n",
       ".list-inline>li {display: inline-block}\n",
       ".list-inline>li:not(:last-child)::after {content: \"\\00b7\"; padding: 0 .5ex}\n",
       "</style>\n",
       "<ol class=list-inline><li>-1.52356680042976</li><li>-1.46725002909224</li><li>-2.2146998871775</li><li>-0.650696353310367</li></ol>\n",
       "</li>\n",
       "</ol>\n"
      ],
      "text/latex": [
       "\\begin{enumerate}\n",
       "\\item \\begin{enumerate*}\n",
       "\\item -2.2146998871775\n",
       "\\item -0.650696353310367\n",
       "\\item -1.27659220845804\n",
       "\\item 1.44115770684428\n",
       "\\end{enumerate*}\n",
       "\n",
       "\\item \\begin{enumerate*}\n",
       "\\item -1.27659220845804\n",
       "\\item 1.44115770684428\n",
       "\\item -0.820468384118015\n",
       "\\item 1.76728726937265\n",
       "\\end{enumerate*}\n",
       "\n",
       "\\item \\begin{enumerate*}\n",
       "\\item -0.820468384118015\n",
       "\\item 1.76728726937265\n",
       "\\item 0.188792299514343\n",
       "\\item 2.20610246454047\n",
       "\\end{enumerate*}\n",
       "\n",
       "\\item \\begin{enumerate*}\n",
       "\\item 0.188792299514343\n",
       "\\item 2.20610246454047\n",
       "\\item 0.475509528899663\n",
       "\\item 2.30797839905936\n",
       "\\end{enumerate*}\n",
       "\n",
       "\\item \\begin{enumerate*}\n",
       "\\item 0.475509528899663\n",
       "\\item 2.30797839905936\n",
       "\\item 2.40161776050478\n",
       "\\item 0.425100377372448\n",
       "\\end{enumerate*}\n",
       "\n",
       "\\item \\begin{enumerate*}\n",
       "\\item 2.40161776050478\n",
       "\\item 0.425100377372448\n",
       "\\item 1.98039989850586\n",
       "\\item -1.07519229661568\n",
       "\\end{enumerate*}\n",
       "\n",
       "\\item \\begin{enumerate*}\n",
       "\\item 1.98039989850586\n",
       "\\item -1.07519229661568\n",
       "\\item 1.43302370170104\n",
       "\\item -1.48746031014148\n",
       "\\end{enumerate*}\n",
       "\n",
       "\\item \\begin{enumerate*}\n",
       "\\item 1.43302370170104\n",
       "\\item -1.48746031014148\n",
       "\\item 0.881107726454215\n",
       "\\item -1.64060553441858\n",
       "\\end{enumerate*}\n",
       "\n",
       "\\item \\begin{enumerate*}\n",
       "\\item 0.881107726454215\n",
       "\\item -1.64060553441858\n",
       "\\item -0.164523596253587\n",
       "\\item -1.91435942568001\n",
       "\\end{enumerate*}\n",
       "\n",
       "\\item \\begin{enumerate*}\n",
       "\\item -0.164523596253587\n",
       "\\item -1.91435942568001\n",
       "\\item -1.52356680042976\n",
       "\\item -1.46725002909224\n",
       "\\end{enumerate*}\n",
       "\n",
       "\\item \\begin{enumerate*}\n",
       "\\item -1.52356680042976\n",
       "\\item -1.46725002909224\n",
       "\\item -2.2146998871775\n",
       "\\item -0.650696353310367\n",
       "\\end{enumerate*}\n",
       "\n",
       "\\end{enumerate}\n"
      ],
      "text/markdown": [
       "1. 1. -2.2146998871775\n",
       "2. -0.650696353310367\n",
       "3. -1.27659220845804\n",
       "4. 1.44115770684428\n",
       "\n",
       "\n",
       "\n",
       "2. 1. -1.27659220845804\n",
       "2. 1.44115770684428\n",
       "3. -0.820468384118015\n",
       "4. 1.76728726937265\n",
       "\n",
       "\n",
       "\n",
       "3. 1. -0.820468384118015\n",
       "2. 1.76728726937265\n",
       "3. 0.188792299514343\n",
       "4. 2.20610246454047\n",
       "\n",
       "\n",
       "\n",
       "4. 1. 0.188792299514343\n",
       "2. 2.20610246454047\n",
       "3. 0.475509528899663\n",
       "4. 2.30797839905936\n",
       "\n",
       "\n",
       "\n",
       "5. 1. 0.475509528899663\n",
       "2. 2.30797839905936\n",
       "3. 2.40161776050478\n",
       "4. 0.425100377372448\n",
       "\n",
       "\n",
       "\n",
       "6. 1. 2.40161776050478\n",
       "2. 0.425100377372448\n",
       "3. 1.98039989850586\n",
       "4. -1.07519229661568\n",
       "\n",
       "\n",
       "\n",
       "7. 1. 1.98039989850586\n",
       "2. -1.07519229661568\n",
       "3. 1.43302370170104\n",
       "4. -1.48746031014148\n",
       "\n",
       "\n",
       "\n",
       "8. 1. 1.43302370170104\n",
       "2. -1.48746031014148\n",
       "3. 0.881107726454215\n",
       "4. -1.64060553441858\n",
       "\n",
       "\n",
       "\n",
       "9. 1. 0.881107726454215\n",
       "2. -1.64060553441858\n",
       "3. -0.164523596253587\n",
       "4. -1.91435942568001\n",
       "\n",
       "\n",
       "\n",
       "10. 1. -0.164523596253587\n",
       "2. -1.91435942568001\n",
       "3. -1.52356680042976\n",
       "4. -1.46725002909224\n",
       "\n",
       "\n",
       "\n",
       "11. 1. -1.52356680042976\n",
       "2. -1.46725002909224\n",
       "3. -2.2146998871775\n",
       "4. -0.650696353310367\n",
       "\n",
       "\n",
       "\n",
       "\n",
       "\n"
      ],
      "text/plain": [
       "[[1]]\n",
       "[1] -2.2146999 -0.6506964 -1.2765922  1.4411577\n",
       "\n",
       "[[2]]\n",
       "[1] -1.2765922  1.4411577 -0.8204684  1.7672873\n",
       "\n",
       "[[3]]\n",
       "[1] -0.8204684  1.7672873  0.1887923  2.2061025\n",
       "\n",
       "[[4]]\n",
       "[1] 0.1887923 2.2061025 0.4755095 2.3079784\n",
       "\n",
       "[[5]]\n",
       "[1] 0.4755095 2.3079784 2.4016178 0.4251004\n",
       "\n",
       "[[6]]\n",
       "[1]  2.4016178  0.4251004  1.9803999 -1.0751923\n",
       "\n",
       "[[7]]\n",
       "[1]  1.980400 -1.075192  1.433024 -1.487460\n",
       "\n",
       "[[8]]\n",
       "[1]  1.4330237 -1.4874603  0.8811077 -1.6406055\n",
       "\n",
       "[[9]]\n",
       "[1]  0.8811077 -1.6406055 -0.1645236 -1.9143594\n",
       "\n",
       "[[10]]\n",
       "[1] -0.1645236 -1.9143594 -1.5235668 -1.4672500\n",
       "\n",
       "[[11]]\n",
       "[1] -1.5235668 -1.4672500 -2.2146999 -0.6506964\n"
      ]
     },
     "metadata": {},
     "output_type": "display_data"
    }
   ],
   "source": [
    "test_results$hull"
   ]
  },
  {
   "cell_type": "markdown",
   "id": "5f4dcabe",
   "metadata": {},
   "source": [
    "This output shows us that there are eleven line segments making up the convex hull. The first line segment goes from point (-2.21,-0.65) to (-1.28,1.44). You will notice that the last line segment ends at the same point as the start of the first element, as expected. The convex hull is best visulised graphically, as shown below. "
   ]
  },
  {
   "cell_type": "code",
   "execution_count": 5,
   "id": "d67a223a",
   "metadata": {},
   "outputs": [
    {
     "data": {
      "image/png": "[encoded data removed]",
      "text/plain": [
       "plot without title"
      ]
     },
     "metadata": {
      "image/png": {
       "height": 420,
       "width": 420
      }
     },
     "output_type": "display_data"
    }
   ],
   "source": [
    "plot_hull(test_results)"
   ]
  },
  {
   "cell_type": "markdown",
   "id": "6497237f",
   "metadata": {},
   "source": [
    "Finally, we can use the supplementary package \"in_hull\" to check which of a given set of points is in the convex hull. For example, let us randomly select 10 points from the initial set of points, and see which of these lies in the convex hull. "
   ]
  },
  {
   "cell_type": "code",
   "execution_count": 6,
   "id": "ca9df282",
   "metadata": {},
   "outputs": [],
   "source": [
    "set.seed(1)\n",
    "indices <- floor(runif(10, min=0, max=101))"
   ]
  },
  {
   "cell_type": "code",
   "execution_count": 7,
   "id": "c08cce14",
   "metadata": {},
   "outputs": [
    {
     "data": {
      "text/html": [
       "<ol>\n",
       "\t<li><style>\n",
       ".list-inline {list-style: none; margin:0; padding: 0}\n",
       ".list-inline>li {display: inline-block}\n",
       ".list-inline>li:not(:last-child)::after {content: \"\\00b7\"; padding: 0 .5ex}\n",
       "</style>\n",
       "<ol class=list-inline><li>0.188792299514343</li><li>2.20610246454047</li></ol>\n",
       "</li>\n",
       "\t<li><style>\n",
       ".list-inline {list-style: none; margin:0; padding: 0}\n",
       ".list-inline>li {display: inline-block}\n",
       ".list-inline>li:not(:last-child)::after {content: \"\\00b7\"; padding: 0 .5ex}\n",
       "</style>\n",
       "<ol class=list-inline><li>-0.820468384118015</li><li>1.76728726937265</li></ol>\n",
       "</li>\n",
       "</ol>\n"
      ],
      "text/latex": [
       "\\begin{enumerate}\n",
       "\\item \\begin{enumerate*}\n",
       "\\item 0.188792299514343\n",
       "\\item 2.20610246454047\n",
       "\\end{enumerate*}\n",
       "\n",
       "\\item \\begin{enumerate*}\n",
       "\\item -0.820468384118015\n",
       "\\item 1.76728726937265\n",
       "\\end{enumerate*}\n",
       "\n",
       "\\end{enumerate}\n"
      ],
      "text/markdown": [
       "1. 1. 0.188792299514343\n",
       "2. 2.20610246454047\n",
       "\n",
       "\n",
       "\n",
       "2. 1. -0.820468384118015\n",
       "2. 1.76728726937265\n",
       "\n",
       "\n",
       "\n",
       "\n",
       "\n"
      ],
      "text/plain": [
       "[[1]]\n",
       "[1] 0.1887923 2.2061025\n",
       "\n",
       "[[2]]\n",
       "[1] -0.8204684  1.7672873\n"
      ]
     },
     "metadata": {},
     "output_type": "display_data"
    }
   ],
   "source": [
    "points_to_check <- list()\n",
    "for (i in 1:10){\n",
    "    points_to_check[[i]] <- c(test_data$x[indices[i]],test_data$y[indices[i]])\n",
    "}\n",
    "in_hull(points_to_check, test_results$hull)"
   ]
  },
  {
   "cell_type": "markdown",
   "id": "8ee1af88",
   "metadata": {},
   "source": [
    "This last results shows us tha of the ten points which we randomly selected from the input data, two happen to fall in the convex hull, points with co-ordinates (0.19,2.21) and (-0.82,1.77). "
   ]
  }
 ],
 "metadata": {
  "kernelspec": {
   "display_name": "R",
   "language": "R",
   "name": "ir"
  },
  "language_info": {
   "codemirror_mode": "r",
   "file_extension": ".r",
   "mimetype": "text/x-r-source",
   "name": "R",
   "pygments_lexer": "r",
   "version": "4.1.2"
  }
 },
 "nbformat": 4,
 "nbformat_minor": 5
}
